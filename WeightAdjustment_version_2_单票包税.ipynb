{
 "cells": [
  {
   "cell_type": "markdown",
   "metadata": {},
   "source": [
    "# Applicaiton will do two main steps\n",
    "## 1. adjust total weight == Airway Bill GW\n",
    "## 2. adjust 42/61/62 HS CODE item weight\n",
    "\n",
    "###  initial version created on 10/01/2019\n",
    "\n",
    "\n",
    "### 25/01/2019, changed some weight calculation methods, see method 1 and method 2"
   ]
  },
  {
   "cell_type": "code",
   "execution_count": 6,
   "metadata": {},
   "outputs": [],
   "source": [
    "import xlwings as xw\n",
    "import numpy as np\n",
    "import pandas as pd\n",
    "import datetime as dt\n",
    "import time\n",
    "import sys\n",
    "from xlwings import Range"
   ]
  },
  {
   "cell_type": "code",
   "execution_count": 2,
   "metadata": {
    "scrolled": true
   },
   "outputs": [],
   "source": [
    "wb = xw.Book(r'C:\\Users\\Xiaodong\\Desktop\\包税程序设计\\重量计算流程及相关文件\\重量计算流程及相关文件\\全包税重量计算流程 （ 与初始发送的有改动）.xlsx')  #open the original data file"
   ]
  },
  {
   "cell_type": "markdown",
   "metadata": {},
   "source": [
    "# Below step maybe not necessary, just to creat a summary sheet with some weight information, ideally pre defined mannually"
   ]
  },
  {
   "cell_type": "code",
   "execution_count": 3,
   "metadata": {},
   "outputs": [],
   "source": [
    "#'''\n",
    "xw.sheets.add(name='Summary', before=wb.sheets[0])\n",
    "wb.sheets[0].range('A1').value = 'Air Way Bill GW'\n",
    "wb.sheets[0].range('A2').value = '包税 GW'\n",
    "wb.sheets[0].range('A3').value = '客人自有税号 GW'\n",
    "wb.sheets[0].range('A4').value = '包税修改后 GW'\n",
    "wb.sheets[0].range('A1:A4').color = (0, 225, 0)\n",
    "#'''"
   ]
  },
  {
   "cell_type": "markdown",
   "metadata": {},
   "source": [
    "# assign the source sheets with original data"
   ]
  },
  {
   "cell_type": "code",
   "execution_count": 4,
   "metadata": {},
   "outputs": [],
   "source": [
    "shtA = wb.sheets['A']    #worksheet A  wb.sheets[2]\n",
    "sht_summary = wb.sheets['Summary']  #worksheet summary wb.sheets[0]"
   ]
  },
  {
   "cell_type": "markdown",
   "metadata": {},
   "source": [
    "# Creat a new workbook to output the results"
   ]
  },
  {
   "cell_type": "code",
   "execution_count": 5,
   "metadata": {},
   "outputs": [],
   "source": [
    "wb2 = xw.Book()\n",
    "\n",
    "sht1 = wb2.sheets.active   # create a new workbook  'Book3 in current case'"
   ]
  },
  {
   "cell_type": "markdown",
   "metadata": {},
   "source": [
    "# Export to DataFrame"
   ]
  },
  {
   "cell_type": "markdown",
   "metadata": {},
   "source": [
    "#### method 1, calculaet adjustment weight per item"
   ]
  },
  {
   "cell_type": "code",
   "execution_count": 17,
   "metadata": {},
   "outputs": [
    {
     "data": {
      "text/plain": [
       "0.4"
      ]
     },
     "execution_count": 17,
     "metadata": {},
     "output_type": "execute_result"
    }
   ],
   "source": [
    "# df = shtA.range('A2:U143').options(pd.DataFrame).value   # export to dataframe change A1: U143 according to individual case\n",
    "\n",
    "# df['CALCULATED GW'] = df['QTY'] * df['ITEM_WT']  # create a column 'calculated gw' based on qty * item_wt\n",
    "\n",
    "# adj_wt_per_item = (sht_summary.range('B1').value - sht_summary.range('B2').value) / df['英文品名'].count()  # the weight need to adjust for each line\n",
    "\n",
    "# df['ADJUSTED GW'] = df['CALCULATED GW'] + round(adj_wt_per_item, 2)\n",
    "\n",
    "# diff = round(df['ADJUSTED GW'].sum() - df['G.W.(KG)'].sum(), 2)\n",
    "\n",
    "# diff"
   ]
  },
  {
   "cell_type": "markdown",
   "metadata": {},
   "source": [
    "#### method 2, calculate percentage of calculated weight and Air Waybill G.W.  This is prefered method"
   ]
  },
  {
   "cell_type": "code",
   "execution_count": 9,
   "metadata": {},
   "outputs": [],
   "source": [
    "df = shtA.range('A2:U143').options(pd.DataFrame).value   # export to dataframe change A1: U143 according to individual case\n",
    "\n",
    "df['CALCULATED GW'] = df['QTY'] * df['ITEM_WT']  # create a column 'calculated gw' based on qty * item_wt\n",
    "\n",
    "perc = round(sht_summary.range('B1').value / df['CALCULATED GW'].sum(), 2)\n",
    "\n",
    "df['ADJUSTED GW'] = round(df['CALCULATED GW'] * perc, 2)\n",
    "\n",
    "diff = round(df['ADJUSTED GW'].sum() - sht_summary.range('B1').value, 2)"
   ]
  },
  {
   "cell_type": "code",
   "execution_count": 10,
   "metadata": {},
   "outputs": [
    {
     "data": {
      "text/plain": [
       "1.56"
      ]
     },
     "execution_count": 10,
     "metadata": {},
     "output_type": "execute_result"
    }
   ],
   "source": [
    "diff"
   ]
  },
  {
   "cell_type": "markdown",
   "metadata": {},
   "source": [
    "# Find the item only appear once, apply diff to that item's weight"
   ]
  },
  {
   "cell_type": "code",
   "execution_count": 11,
   "metadata": {},
   "outputs": [],
   "source": [
    "df['英文品名'].value_counts(ascending=True).index[0]  #find the items appearance, pick the first one by add .index[0] \n",
    "\n",
    "# df.loc[df['英文品名'] == df['英文品名'].value_counts(ascending=True).index[0]]['ADJUSTED GW'] + diff\n",
    "\n",
    "df.loc[df['英文品名'] == df['英文品名'].value_counts(ascending=True).index[0], 'ADJUSTED GW'] -= diff"
   ]
  },
  {
   "cell_type": "markdown",
   "metadata": {},
   "source": [
    "# step 1 finished up to here\n",
    "# step 2 begins..."
   ]
  },
  {
   "cell_type": "code",
   "execution_count": 12,
   "metadata": {},
   "outputs": [],
   "source": [
    "df['HS CODE'] = df['HS CODE'].astype(str)   # convert column HS CODE from float to string\n",
    "\n",
    "def check_HS(x):\n",
    "    if x.startswith('42') | x.startswith('61') | x.startswith('62'):\n",
    "        return 'Sensitive'\n",
    "    else:\n",
    "        return 'Safe'\n",
    "\n",
    "df['SENSITIVITY']= df['HS CODE'].apply(check_HS)  # create a column to set sensitivity according to HS CODE"
   ]
  },
  {
   "cell_type": "markdown",
   "metadata": {},
   "source": [
    "## define a function to decide adjustment value according to qty"
   ]
  },
  {
   "cell_type": "code",
   "execution_count": 13,
   "metadata": {},
   "outputs": [],
   "source": [
    "def weight_setter(qty):     #changed values according to new version\n",
    "    if qty <=50:\n",
    "        return 0.15\n",
    "    elif qty <= 100:\n",
    "        return 0.075\n",
    "    elif qty <=150:\n",
    "        return 0.05\n",
    "    elif qty <=200:\n",
    "        return 0.04\n",
    "    else:\n",
    "        return 0.03"
   ]
  },
  {
   "cell_type": "markdown",
   "metadata": {},
   "source": [
    "# adjust sensitive HS CODE weight"
   ]
  },
  {
   "cell_type": "code",
   "execution_count": 14,
   "metadata": {},
   "outputs": [],
   "source": [
    "def adjust_wt_sense(row):\n",
    "    # weight = row[10]\n",
    "    sens = row[22]\n",
    "    qty = row[8]\n",
    "    \n",
    "    if sens == 'Sensitive':\n",
    "        return qty * weight_setter(qty)\n",
    "\n",
    "df['ADJ1_SENS'] = df.apply(adjust_wt_sense, axis = 1)\n",
    "\n",
    "df['ADJ1'] = df['ADJ1_SENS'].combine_first(df['ADJUSTED GW'])   # replace the none value with original number"
   ]
  },
  {
   "cell_type": "markdown",
   "metadata": {},
   "source": [
    "# adjust safe HS CODE weight\n",
    "##### method 1, original method, based on calculated item weight"
   ]
  },
  {
   "cell_type": "code",
   "execution_count": 26,
   "metadata": {},
   "outputs": [],
   "source": [
    "wgt_diff = df['CALCULATED GW'].sum() - df['ADJ1'].sum()"
   ]
  },
  {
   "cell_type": "code",
   "execution_count": null,
   "metadata": {},
   "outputs": [],
   "source": [
    "# wgt_diff"
   ]
  },
  {
   "cell_type": "code",
   "execution_count": 27,
   "metadata": {},
   "outputs": [],
   "source": [
    "df_safe = df[df['SENSITIVITY'] == 'Safe']"
   ]
  },
  {
   "cell_type": "code",
   "execution_count": 28,
   "metadata": {},
   "outputs": [],
   "source": [
    "qty_safe = df_safe['QTY'].sum()"
   ]
  },
  {
   "cell_type": "code",
   "execution_count": null,
   "metadata": {},
   "outputs": [],
   "source": [
    "# qty_safe"
   ]
  },
  {
   "cell_type": "code",
   "execution_count": 29,
   "metadata": {},
   "outputs": [],
   "source": [
    "adj2_val = wgt_diff / qty_safe"
   ]
  },
  {
   "cell_type": "code",
   "execution_count": null,
   "metadata": {},
   "outputs": [],
   "source": [
    "# adj2_val"
   ]
  },
  {
   "cell_type": "code",
   "execution_count": 30,
   "metadata": {},
   "outputs": [],
   "source": [
    "def adjust_wt_safe(row):\n",
    "    weight = row[24]     # row adj1\n",
    "    sens = row[22]   \n",
    "    qty = row[8]\n",
    "    \n",
    "    if sens == 'Safe':\n",
    "        return round(weight + qty * adj2_val, 2)"
   ]
  },
  {
   "cell_type": "code",
   "execution_count": 31,
   "metadata": {},
   "outputs": [],
   "source": [
    "df['ADJ2_SAFE'] = df.apply(adjust_wt_safe, axis = 1)"
   ]
  },
  {
   "cell_type": "code",
   "execution_count": 32,
   "metadata": {},
   "outputs": [],
   "source": [
    "df['ADJ2'] = df['ADJ2_SAFE'].combine_first(df['ADJ1'])   # replace the none value with original number"
   ]
  },
  {
   "cell_type": "markdown",
   "metadata": {},
   "source": [
    "### Method 2, added on 25/01/2019, prefered method, this should elminate the negative weight issue"
   ]
  },
  {
   "cell_type": "code",
   "execution_count": 15,
   "metadata": {},
   "outputs": [],
   "source": [
    "wgt_diff = round(sht_summary.range('B1').value - df['ADJ1'].sum(), 2)"
   ]
  },
  {
   "cell_type": "code",
   "execution_count": 16,
   "metadata": {},
   "outputs": [],
   "source": [
    "df_safe = df[df['SENSITIVITY'] == 'Safe']"
   ]
  },
  {
   "cell_type": "code",
   "execution_count": 17,
   "metadata": {},
   "outputs": [],
   "source": [
    "wgt_safe_bf = round(df_safe['ADJ1'].sum(), 2)"
   ]
  },
  {
   "cell_type": "code",
   "execution_count": 70,
   "metadata": {},
   "outputs": [
    {
     "data": {
      "text/plain": [
       "277.58"
      ]
     },
     "execution_count": 70,
     "metadata": {},
     "output_type": "execute_result"
    }
   ],
   "source": [
    "wgt_diff"
   ]
  },
  {
   "cell_type": "code",
   "execution_count": 18,
   "metadata": {},
   "outputs": [],
   "source": [
    "wgt_safe_af = round(wgt_safe_bf + wgt_diff, 2)"
   ]
  },
  {
   "cell_type": "code",
   "execution_count": 19,
   "metadata": {},
   "outputs": [],
   "source": [
    "perc2 = round(wgt_safe_af / wgt_safe_bf, 2)"
   ]
  },
  {
   "cell_type": "code",
   "execution_count": 53,
   "metadata": {
    "scrolled": true
   },
   "outputs": [],
   "source": [
    "# replaced below funciton by lambda\n",
    "# def adjust_wt_safe(row):\n",
    "#    weight = row[24]     # row adj1\n",
    "#    sens = row[22]   \n",
    "    \n",
    "#    if sens == 'Safe':\n",
    "#        return round(weight * perc2, 2)"
   ]
  },
  {
   "cell_type": "code",
   "execution_count": 20,
   "metadata": {},
   "outputs": [],
   "source": [
    "df['ADJ2_SAFE'] = df.apply(lambda row: round(row['ADJ1'] * perc2, 2) if row['SENSITIVITY'] == 'Safe' else np.nan, axis = 1)"
   ]
  },
  {
   "cell_type": "code",
   "execution_count": 21,
   "metadata": {},
   "outputs": [],
   "source": [
    "df['ADJ2'] = df['ADJ2_SAFE'].combine_first(df['ADJ1']) "
   ]
  },
  {
   "cell_type": "code",
   "execution_count": null,
   "metadata": {},
   "outputs": [],
   "source": []
  },
  {
   "cell_type": "code",
   "execution_count": null,
   "metadata": {},
   "outputs": [],
   "source": []
  },
  {
   "cell_type": "code",
   "execution_count": null,
   "metadata": {},
   "outputs": [],
   "source": []
  },
  {
   "cell_type": "markdown",
   "metadata": {},
   "source": [
    "#  Same again, find the items only appear once, apply final diff to that item's weight"
   ]
  },
  {
   "cell_type": "code",
   "execution_count": 22,
   "metadata": {},
   "outputs": [],
   "source": [
    "final_diff = round(df['ADJUSTED GW'].sum() - df['ADJ2'].sum(), 2)\n",
    "\n",
    "# final_diff\n",
    "\n",
    "df['英文品名'].value_counts(ascending=True).index[1]  #find the items appearance, pick the first one by add .index[0] \n",
    "\n",
    "df.loc[df['英文品名'] == df['英文品名'].value_counts(ascending=True).index[1], 'ADJ2'] += final_diff"
   ]
  },
  {
   "cell_type": "markdown",
   "metadata": {},
   "source": [
    "# upto to here, step two finished"
   ]
  },
  {
   "cell_type": "markdown",
   "metadata": {},
   "source": [
    "# experimenting code below, mainly for test and check values of certain variable"
   ]
  },
  {
   "cell_type": "code",
   "execution_count": null,
   "metadata": {},
   "outputs": [],
   "source": [
    "df.columns[22]"
   ]
  },
  {
   "cell_type": "code",
   "execution_count": null,
   "metadata": {},
   "outputs": [],
   "source": [
    "df.columns[-1]"
   ]
  },
  {
   "cell_type": "code",
   "execution_count": 18,
   "metadata": {
    "collapsed": true
   },
   "outputs": [
    {
     "data": {
      "text/plain": [
       "Agitator                     1\n",
       "Stainless steel needle       1\n",
       "Hanger                       1\n",
       "humidifier                   1\n",
       "Eyelash brush                1\n",
       "Finger band                  1\n",
       "strap                        1\n",
       "belt                         1\n",
       "Toe separation sleeve        1\n",
       "LED light                    1\n",
       "Arm guard                    1\n",
       "Finger                       1\n",
       "Vest                         1\n",
       "Shift knob                   1\n",
       "wrench                       1\n",
       "Foot protection              1\n",
       "nflator                      1\n",
       "Bracers                      1\n",
       "gloves                       1\n",
       "Table bar chair yarn         1\n",
       "Clip                         1\n",
       "Exhaust gas cover            1\n",
       "Air conditioning panel       1\n",
       "Foot cover                   1\n",
       "Mask                         1\n",
       "plastic cup                  1\n",
       "handlebar                    1\n",
       "exhaust pipe                 1\n",
       "Drying rack                  1\n",
       "Shoehorn                     1\n",
       "Sling                        1\n",
       "handle                       1\n",
       "Speaker Network              1\n",
       "Motorcycle headlights        1\n",
       "Shift handle                 1\n",
       "3D printer nozzles           1\n",
       "Armor                        1\n",
       "Wick                         1\n",
       "Shoulderpad                  2\n",
       "Dustproof wheel cover        2\n",
       "handguard                    2\n",
       "vest                         2\n",
       "Decorative cover             2\n",
       "Leaf target                  2\n",
       "Leggings                     2\n",
       "Buckle                       2\n",
       "eyebrow set                  2\n",
       "Storage Box                  2\n",
       "luggage rack                 2\n",
       "swimsuit                     3\n",
       "Melodica                     3\n",
       "back correction              4\n",
       "fire gun                     5\n",
       "Candy bag                    5\n",
       "crayons                      8\n",
       "Light Bulb                   8\n",
       "Slipcover                   10\n",
       "silicone case               10\n",
       "kitchen torch               10\n",
       "Children's toy vest suit    15\n",
       "Name: 英文品名, dtype: int64"
      ]
     },
     "execution_count": 18,
     "metadata": {},
     "output_type": "execute_result"
    }
   ],
   "source": [
    "df['英文品名'].value_counts(ascending=True)"
   ]
  },
  {
   "cell_type": "code",
   "execution_count": 60,
   "metadata": {},
   "outputs": [],
   "source": [
    "df_test =df"
   ]
  },
  {
   "cell_type": "code",
   "execution_count": 63,
   "metadata": {},
   "outputs": [],
   "source": [
    "df_test['SENSITIVITY'] = df_test['SENSITIVITY'].astype('category')"
   ]
  },
  {
   "cell_type": "code",
   "execution_count": null,
   "metadata": {},
   "outputs": [],
   "source": [
    "df_test['adj3_safe'] = df_test.apply()"
   ]
  },
  {
   "cell_type": "code",
   "execution_count": 65,
   "metadata": {},
   "outputs": [],
   "source": [
    "mask2 = df_test['SENSITIVITY'] == 'Safe'"
   ]
  },
  {
   "cell_type": "code",
   "execution_count": null,
   "metadata": {},
   "outputs": [],
   "source": []
  },
  {
   "cell_type": "code",
   "execution_count": 25,
   "metadata": {},
   "outputs": [],
   "source": [
    "Range('AB2').color = (160, 160, 160)"
   ]
  },
  {
   "cell_type": "code",
   "execution_count": 27,
   "metadata": {},
   "outputs": [],
   "source": [
    "import win32com.client as win32"
   ]
  },
  {
   "cell_type": "code",
   "execution_count": 39,
   "metadata": {},
   "outputs": [],
   "source": [
    "# Let's say we have a column containing numbers, highlight the background color if number is > 30\n",
    "for x in Range('AB2').expand('down'):\n",
    "    if x.value > 30:\n",
    "        x.color = (255,153,255)  # set background color to gray"
   ]
  },
  {
   "cell_type": "code",
   "execution_count": 31,
   "metadata": {},
   "outputs": [],
   "source": [
    "ran = Range('AB2').options(expand='vertical')"
   ]
  },
  {
   "cell_type": "code",
   "execution_count": null,
   "metadata": {},
   "outputs": [],
   "source": []
  },
  {
   "cell_type": "markdown",
   "metadata": {},
   "source": [
    "# write back to worksheet, execute below code whenever necessary"
   ]
  },
  {
   "cell_type": "code",
   "execution_count": 23,
   "metadata": {},
   "outputs": [],
   "source": [
    "sht1.range('A1').value = df"
   ]
  },
  {
   "cell_type": "markdown",
   "metadata": {},
   "source": [
    "# clear worksheet content"
   ]
  },
  {
   "cell_type": "code",
   "execution_count": 69,
   "metadata": {},
   "outputs": [],
   "source": [
    "sht1.clear_contents()"
   ]
  },
  {
   "cell_type": "code",
   "execution_count": null,
   "metadata": {},
   "outputs": [],
   "source": []
  },
  {
   "cell_type": "code",
   "execution_count": null,
   "metadata": {},
   "outputs": [],
   "source": []
  },
  {
   "cell_type": "code",
   "execution_count": null,
   "metadata": {},
   "outputs": [],
   "source": []
  },
  {
   "cell_type": "code",
   "execution_count": null,
   "metadata": {},
   "outputs": [],
   "source": []
  },
  {
   "cell_type": "code",
   "execution_count": null,
   "metadata": {},
   "outputs": [],
   "source": []
  },
  {
   "cell_type": "code",
   "execution_count": null,
   "metadata": {},
   "outputs": [],
   "source": []
  },
  {
   "cell_type": "code",
   "execution_count": null,
   "metadata": {},
   "outputs": [],
   "source": []
  },
  {
   "cell_type": "code",
   "execution_count": null,
   "metadata": {},
   "outputs": [],
   "source": []
  },
  {
   "cell_type": "code",
   "execution_count": null,
   "metadata": {},
   "outputs": [],
   "source": []
  }
 ],
 "metadata": {
  "kernelspec": {
   "display_name": "Python 3",
   "language": "python",
   "name": "python3"
  },
  "language_info": {
   "codemirror_mode": {
    "name": "ipython",
    "version": 3
   },
   "file_extension": ".py",
   "mimetype": "text/x-python",
   "name": "python",
   "nbconvert_exporter": "python",
   "pygments_lexer": "ipython3",
   "version": "3.6.6"
  }
 },
 "nbformat": 4,
 "nbformat_minor": 2
}
