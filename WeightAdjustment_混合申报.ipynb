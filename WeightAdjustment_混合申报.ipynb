{
 "cells": [
  {
   "cell_type": "markdown",
   "metadata": {},
   "source": [
    "# 多票AIRWAY BILL 混合申报"
   ]
  },
  {
   "cell_type": "code",
   "execution_count": 1,
   "metadata": {},
   "outputs": [],
   "source": [
    "import xlwings as xw\n",
    "import numpy as np\n",
    "import pandas as pd\n",
    "from random import randint"
   ]
  },
  {
   "cell_type": "code",
   "execution_count": 3,
   "metadata": {},
   "outputs": [],
   "source": [
    "wb = xw.Book(r'C:\\Users\\Xiaodong\\Desktop\\包税程序设计\\重量计算流程及相关文件\\重量计算流程及相关文件\\混合申报计算流程.xlsx')"
   ]
  },
  {
   "cell_type": "markdown",
   "metadata": {},
   "source": [
    "# Creat a new workbook to output the results"
   ]
  },
  {
   "cell_type": "code",
   "execution_count": 4,
   "metadata": {},
   "outputs": [],
   "source": [
    "wb2 = xw.Book()\n",
    "\n",
    "sht1 = wb2.sheets.active"
   ]
  },
  {
   "cell_type": "code",
   "execution_count": 5,
   "metadata": {},
   "outputs": [],
   "source": [
    "shtA = wb.sheets[0]    #worksheet A"
   ]
  },
  {
   "cell_type": "code",
   "execution_count": 68,
   "metadata": {},
   "outputs": [],
   "source": [
    "df = shtA.range('A2:AC202').options(pd.DataFrame).value"
   ]
  },
  {
   "cell_type": "code",
   "execution_count": 46,
   "metadata": {
    "collapsed": true
   },
   "outputs": [
    {
     "name": "stdout",
     "output_type": "stream",
     "text": [
      "<class 'pandas.core.frame.DataFrame'>\n",
      "Float64Index: 200 entries, 1.0 to 200.0\n",
      "Data columns (total 28 columns):\n",
      "提单号                200 non-null object\n",
      "分单号                200 non-null float64\n",
      "MARKS & NO         164 non-null object\n",
      "原英文品名              200 non-null object\n",
      "修改后英文品名            200 non-null object\n",
      "原中文品名              200 non-null object\n",
      "修改后中文品名            200 non-null object\n",
      "型号                 200 non-null object\n",
      "MATERIAL           200 non-null object\n",
      "USAGE              200 non-null object\n",
      "QTY                200 non-null float64\n",
      "ORIGINAL GW        180 non-null float64\n",
      "STEP1              200 non-null float64\n",
      "STEP2              200 non-null float64\n",
      "STEP3              200 non-null float64\n",
      "STEP4              200 non-null float64\n",
      "N.W (KG)           200 non-null float64\n",
      "CTN                164 non-null float64\n",
      "币别(GBP)            200 non-null float64\n",
      "币别(GBP)            200 non-null float64\n",
      "HS CODE            200 non-null float64\n",
      "DUTY RATE          200 non-null float64\n",
      "DUTY               200 non-null object\n",
      "S-C                200 non-null object\n",
      "ASIN CODE          200 non-null object\n",
      "SELLING RATE       200 non-null object\n",
      "SHIIPING WEIGHT    200 non-null float64\n",
      "LINK               200 non-null object\n",
      "dtypes: float64(14), object(14)\n",
      "memory usage: 45.3+ KB\n"
     ]
    }
   ],
   "source": [
    "# df.info()"
   ]
  },
  {
   "cell_type": "code",
   "execution_count": 73,
   "metadata": {},
   "outputs": [],
   "source": [
    "df['提单号'] = df['提单号'].astype('category')\n",
    "\n",
    "df['HS CODE'] = df['HS CODE'].astype(str).astype('category')\n",
    "\n",
    "# df['HS CODE'] = df['HS CODE'].apply(lambda s: s[:-2])  # remove the '.0' on HS CODE,\n",
    "\n",
    "df['分单号'] = df['分单号'].astype('category')"
   ]
  },
  {
   "cell_type": "code",
   "execution_count": 29,
   "metadata": {},
   "outputs": [],
   "source": []
  },
  {
   "cell_type": "code",
   "execution_count": 57,
   "metadata": {},
   "outputs": [
    {
     "data": {
      "text/plain": [
       "CategoricalDtype(categories=['3910000090.0', '3919908099.0', '3924900090.0',\n",
       "                  '3925908000.0', '3926100000.0', '3926300090.0',\n",
       "                  '3926909790.0', '4201000090.0', '4202121900.0',\n",
       "                  '4202310090.0', '4202929190.0', '4202929890.0',\n",
       "                  '4419120000.0', '4420101900.0', '4421999999.0',\n",
       "                  '4820103000.0', '5602290090.0', '5607509099.0',\n",
       "                  '5607909090.0', '6704190000.0', '6802999090.0',\n",
       "                  '7010909100.0', '7013990090.0', '7323930090.0',\n",
       "                  '8205100000.0', '8205200000.0', '8205510000.0',\n",
       "                  '8205598000.0', '8205909000.0', '8214200000.0',\n",
       "                  '8304000000.0', '8308900090.0', '8471607000.0',\n",
       "                  '8471709800.0', '8471800000.0', '8504318090.0',\n",
       "                  '8504409090.0', '8512909000.0', '8539500000.0',\n",
       "                  '8543709099.0', '8544499500.0', '8708109090.0',\n",
       "                  '8708999790.0', '8714104000.0', '8714109090.0',\n",
       "                  '9021109000.0', '9105190000.0', '9113200000.0',\n",
       "                  '9405409990.0', '9505900000.0', '9506919000.0',\n",
       "                  '9609909000.0'],\n",
       "                 ordered=False)"
      ]
     },
     "execution_count": 57,
     "metadata": {},
     "output_type": "execute_result"
    }
   ],
   "source": [
    "df['HS CODE'].dtype"
   ]
  },
  {
   "cell_type": "code",
   "execution_count": 40,
   "metadata": {},
   "outputs": [
    {
     "data": {
      "text/plain": [
       "[8.70811e+09, 8.709e+09, 8.51291e+09, 8.71411e+09, 8.7141e+09, ..., 9.1132e+09, 4.41912e+09, 8.4718e+09, 8.47171e+09, 9.02111e+09]\n",
       "Length: 53\n",
       "Categories (53, object): [8.70811e+09, 8.709e+09, 8.51291e+09, 8.71411e+09, ..., 4.41912e+09, 8.4718e+09, 8.47171e+09, 9.02111e+09]"
      ]
     },
     "execution_count": 40,
     "metadata": {},
     "output_type": "execute_result"
    }
   ],
   "source": [
    "df['HS CODE'].unique()"
   ]
  },
  {
   "cell_type": "code",
   "execution_count": 34,
   "metadata": {},
   "outputs": [
    {
     "data": {
      "text/plain": [
       "'hel'"
      ]
     },
     "execution_count": 34,
     "metadata": {},
     "output_type": "execute_result"
    }
   ],
   "source": [
    "s[:-2]"
   ]
  },
  {
   "cell_type": "code",
   "execution_count": 35,
   "metadata": {},
   "outputs": [
    {
     "data": {
      "text/plain": [
       "'hello'"
      ]
     },
     "execution_count": 35,
     "metadata": {},
     "output_type": "execute_result"
    }
   ],
   "source": [
    "s"
   ]
  },
  {
   "cell_type": "code",
   "execution_count": 54,
   "metadata": {},
   "outputs": [],
   "source": [
    "df['HS CODE'] = df['HS CODE'].astype(str).astype('category')"
   ]
  },
  {
   "cell_type": "code",
   "execution_count": 74,
   "metadata": {},
   "outputs": [
    {
     "name": "stdout",
     "output_type": "stream",
     "text": [
      "<class 'pandas.core.frame.DataFrame'>\n",
      "Float64Index: 200 entries, 1.0 to 200.0\n",
      "Data columns (total 28 columns):\n",
      "提单号                200 non-null category\n",
      "分单号                200 non-null category\n",
      "MARKS & NO         164 non-null object\n",
      "原英文品名              200 non-null object\n",
      "修改后英文品名            200 non-null object\n",
      "原中文品名              200 non-null object\n",
      "修改后中文品名            200 non-null object\n",
      "型号                 200 non-null object\n",
      "MATERIAL           200 non-null object\n",
      "USAGE              200 non-null object\n",
      "QTY                200 non-null float64\n",
      "ORIGINAL GW        180 non-null float64\n",
      "STEP1              200 non-null float64\n",
      "STEP2              200 non-null float64\n",
      "STEP3              200 non-null float64\n",
      "STEP4              200 non-null float64\n",
      "N.W (KG)           200 non-null float64\n",
      "CTN                164 non-null float64\n",
      "币别(GBP)            200 non-null float64\n",
      "币别(GBP)            200 non-null float64\n",
      "HS CODE            200 non-null category\n",
      "DUTY RATE          200 non-null float64\n",
      "DUTY               200 non-null object\n",
      "S-C                200 non-null object\n",
      "ASIN CODE          200 non-null object\n",
      "SELLING RATE       200 non-null object\n",
      "SHIIPING WEIGHT    200 non-null float64\n",
      "LINK               200 non-null object\n",
      "dtypes: category(3), float64(12), object(13)\n",
      "memory usage: 44.6+ KB\n"
     ]
    }
   ],
   "source": [
    "df.info()"
   ]
  },
  {
   "cell_type": "code",
   "execution_count": 43,
   "metadata": {},
   "outputs": [],
   "source": [
    "import sys"
   ]
  },
  {
   "cell_type": "code",
   "execution_count": 44,
   "metadata": {},
   "outputs": [
    {
     "data": {
      "text/plain": [
       "9223372036854775807"
      ]
     },
     "execution_count": 44,
     "metadata": {},
     "output_type": "execute_result"
    }
   ],
   "source": [
    "sys.maxsize"
   ]
  },
  {
   "cell_type": "code",
   "execution_count": 59,
   "metadata": {},
   "outputs": [],
   "source": [
    "l = lambda s: s[:-2]"
   ]
  },
  {
   "cell_type": "code",
   "execution_count": 60,
   "metadata": {},
   "outputs": [],
   "source": [
    "s = 'Hello'"
   ]
  },
  {
   "cell_type": "code",
   "execution_count": 63,
   "metadata": {},
   "outputs": [],
   "source": []
  },
  {
   "cell_type": "code",
   "execution_count": 64,
   "metadata": {},
   "outputs": [
    {
     "data": {
      "text/plain": [
       "序号\n",
       "1.0      8708109090\n",
       "2.0      8708999790\n",
       "3.0      8512909000\n",
       "4.0      8708999790\n",
       "5.0      8714109090\n",
       "6.0      8714104000\n",
       "7.0      8471607000\n",
       "8.0      4202929190\n",
       "9.0      8543709099\n",
       "10.0     8543709099\n",
       "11.0     8543709099\n",
       "12.0     8544499500\n",
       "13.0     8544499500\n",
       "14.0     9506919000\n",
       "15.0     9506919000\n",
       "16.0     8504409090\n",
       "17.0     8504409090\n",
       "18.0     9506919000\n",
       "19.0     9506919000\n",
       "20.0     9506919000\n",
       "21.0     4421999999\n",
       "22.0     8304000000\n",
       "23.0     8308900090\n",
       "24.0     8304000000\n",
       "25.0     4420101900\n",
       "26.0     5607909090\n",
       "27.0     3924900090\n",
       "28.0     3924900090\n",
       "29.0     3924900090\n",
       "30.0     3924900090\n",
       "            ...    \n",
       "171.0    9609909000\n",
       "172.0    9609909000\n",
       "173.0    8471800000\n",
       "174.0    8471800000\n",
       "175.0    8471800000\n",
       "176.0    8471800000\n",
       "177.0    8471800000\n",
       "178.0    8471709800\n",
       "179.0    8471709800\n",
       "180.0    8471709800\n",
       "181.0    8471709800\n",
       "182.0    9021109000\n",
       "183.0    9021109000\n",
       "184.0    9021109000\n",
       "185.0    9021109000\n",
       "186.0    9021109000\n",
       "187.0    9021109000\n",
       "188.0    9021109000\n",
       "189.0    9021109000\n",
       "190.0    9021109000\n",
       "191.0    9506919000\n",
       "192.0    9021109000\n",
       "193.0    9021109000\n",
       "194.0    9021109000\n",
       "195.0    9021109000\n",
       "196.0    9021109000\n",
       "197.0    9021109000\n",
       "198.0    9021109000\n",
       "199.0    9021109000\n",
       "200.0    9021109000\n",
       "Name: HS CODE, Length: 200, dtype: category\n",
       "Categories (52, object): [3910000090, 3919908099, 3924900090, 3925908000, ..., 9405409990, 9505900000, 9506919000, 9609909000]"
      ]
     },
     "execution_count": 64,
     "metadata": {},
     "output_type": "execute_result"
    }
   ],
   "source": [
    "df['HS CODE']"
   ]
  },
  {
   "cell_type": "code",
   "execution_count": 72,
   "metadata": {},
   "outputs": [
    {
     "data": {
      "text/plain": [
       "序号\n",
       "1.0      15C7DLL1MU000001\n",
       "2.0                   NaN\n",
       "3.0                   NaN\n",
       "4.0      15C7DLL1MU000002\n",
       "5.0                   NaN\n",
       "6.0                   NaN\n",
       "7.0      15C7GLYG3U000001\n",
       "8.0                   NaN\n",
       "9.0                   NaN\n",
       "10.0     15C7GLYG3U000002\n",
       "11.0     15C7GLYG3U000003\n",
       "12.0     15C7JSGN4U000001\n",
       "13.0     15C7JSGN4U000002\n",
       "14.0     15C7538K5U000001\n",
       "15.0     15C7538K5U000002\n",
       "16.0     15C7GRWJXU000001\n",
       "17.0     15C7GRWJXU000002\n",
       "18.0     15C7JK627U000001\n",
       "19.0     15C7JK627U000002\n",
       "20.0     15C7JK627U000003\n",
       "21.0        15C6R61HGU001\n",
       "22.0                  NaN\n",
       "23.0        15C6R61HGU002\n",
       "24.0                  NaN\n",
       "25.0                  NaN\n",
       "26.0     15C7JLQMFU000001\n",
       "27.0     15C755CY8U000001\n",
       "28.0     15C755CY8U000002\n",
       "29.0     15C755CY8U000003\n",
       "30.0     15C755CY8U000004\n",
       "               ...       \n",
       "171.0    15C7B2Q77U000004\n",
       "172.0    15C7B2Q77U000005\n",
       "173.0    15C7BWDBYU000001\n",
       "174.0    15C7BWDBYU000002\n",
       "175.0    15C7BWDBYU000003\n",
       "176.0    15C7BWDBYU000004\n",
       "177.0    15C7BWDBYU000005\n",
       "178.0    15C7BWDBYU000012\n",
       "179.0    15C7BWDBYU000013\n",
       "180.0    15C7BWDBYU000014\n",
       "181.0    15C7BWDBYU000015\n",
       "182.0    15C6L62MGU000001\n",
       "183.0    15C6L62MGU000002\n",
       "184.0    15C6L62MGU000003\n",
       "185.0    15C6L62MGU000004\n",
       "186.0    15C7FXVFXU000001\n",
       "187.0    15C7FXVFXU000002\n",
       "188.0    15C7FXVFXU000003\n",
       "189.0    15C7FXVFXU000004\n",
       "190.0    15C7FXVFXU000005\n",
       "191.0    15C7FXVFXU000006\n",
       "192.0    15C74ZDLGU000001\n",
       "193.0    15C74ZDLGU000002\n",
       "194.0    15C74ZDLGU000003\n",
       "195.0    15C74ZDLGU000004\n",
       "196.0    15C74ZDLGU000005\n",
       "197.0    15C74ZDLGU000006\n",
       "198.0    15C74ZDLGU000007\n",
       "199.0    15C74ZDLGU000008\n",
       "200.0    15C74ZDLGU000009\n",
       "Name: MARKS & NO, Length: 200, dtype: category\n",
       "Categories (164, object): [15C69S72WU000001, 15C69S72WU000002, 15C69S72WU000003, 15C69S72WU000004, ..., 15C7K8FYPU000004, 15C7KCZYCU000001, 15C7KCZYCU000002, 15C7KFW4WU000005]"
      ]
     },
     "execution_count": 72,
     "metadata": {},
     "output_type": "execute_result"
    }
   ],
   "source": [
    "df['MARKS & NO'].astype('category')"
   ]
  },
  {
   "cell_type": "code",
   "execution_count": null,
   "metadata": {},
   "outputs": [],
   "source": []
  },
  {
   "cell_type": "code",
   "execution_count": null,
   "metadata": {},
   "outputs": [],
   "source": []
  },
  {
   "cell_type": "code",
   "execution_count": null,
   "metadata": {},
   "outputs": [],
   "source": []
  },
  {
   "cell_type": "code",
   "execution_count": null,
   "metadata": {},
   "outputs": [],
   "source": []
  },
  {
   "cell_type": "code",
   "execution_count": null,
   "metadata": {},
   "outputs": [],
   "source": []
  },
  {
   "cell_type": "code",
   "execution_count": null,
   "metadata": {},
   "outputs": [],
   "source": []
  },
  {
   "cell_type": "code",
   "execution_count": null,
   "metadata": {},
   "outputs": [],
   "source": []
  },
  {
   "cell_type": "code",
   "execution_count": null,
   "metadata": {},
   "outputs": [],
   "source": []
  },
  {
   "cell_type": "code",
   "execution_count": null,
   "metadata": {},
   "outputs": [],
   "source": []
  },
  {
   "cell_type": "code",
   "execution_count": null,
   "metadata": {},
   "outputs": [],
   "source": []
  },
  {
   "cell_type": "code",
   "execution_count": null,
   "metadata": {},
   "outputs": [],
   "source": []
  },
  {
   "cell_type": "code",
   "execution_count": null,
   "metadata": {},
   "outputs": [],
   "source": []
  },
  {
   "cell_type": "markdown",
   "metadata": {},
   "source": [
    "# write back to worksheet, execute below code whenever necessary"
   ]
  },
  {
   "cell_type": "code",
   "execution_count": 71,
   "metadata": {},
   "outputs": [],
   "source": [
    "sht1.range('A1').value = df"
   ]
  },
  {
   "cell_type": "markdown",
   "metadata": {},
   "source": [
    "# clear worksheet content"
   ]
  },
  {
   "cell_type": "code",
   "execution_count": 70,
   "metadata": {},
   "outputs": [],
   "source": [
    "sht1.clear_contents()"
   ]
  },
  {
   "cell_type": "code",
   "execution_count": null,
   "metadata": {},
   "outputs": [],
   "source": []
  },
  {
   "cell_type": "code",
   "execution_count": null,
   "metadata": {},
   "outputs": [],
   "source": []
  },
  {
   "cell_type": "code",
   "execution_count": null,
   "metadata": {},
   "outputs": [],
   "source": []
  },
  {
   "cell_type": "code",
   "execution_count": null,
   "metadata": {},
   "outputs": [],
   "source": []
  },
  {
   "cell_type": "code",
   "execution_count": null,
   "metadata": {},
   "outputs": [],
   "source": []
  },
  {
   "cell_type": "code",
   "execution_count": null,
   "metadata": {},
   "outputs": [],
   "source": []
  }
 ],
 "metadata": {
  "kernelspec": {
   "display_name": "Python 3",
   "language": "python",
   "name": "python3"
  },
  "language_info": {
   "codemirror_mode": {
    "name": "ipython",
    "version": 3
   },
   "file_extension": ".py",
   "mimetype": "text/x-python",
   "name": "python",
   "nbconvert_exporter": "python",
   "pygments_lexer": "ipython3",
   "version": "3.6.6"
  }
 },
 "nbformat": 4,
 "nbformat_minor": 2
}
