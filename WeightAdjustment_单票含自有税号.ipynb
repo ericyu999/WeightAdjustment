{
 "cells": [
  {
   "cell_type": "markdown",
   "metadata": {},
   "source": [
    "# 单票含客人自有税号，主要流程如下\n",
    "### 1. 调整客人自有税号重量，至35kg/箱\n",
    "### 2. 重复第一步，直至所有客人自有税号调整完毕\n",
    "### 3. 计算包税目标重量（AIR WAY BILL GW - STEP 1 & 2 GW)\n",
    "### 4. 调整包税部分重量至目标重量\n",
    "\n",
    "##### notes, N.W. = 0.75 * G.W. may need to adjust 35kg/box, probably creative a random value between 30-35 or let user define a value\n",
    "\n",
    "##### created on 15/01/2019"
   ]
  },
  {
   "cell_type": "code",
   "execution_count": 1,
   "metadata": {},
   "outputs": [],
   "source": [
    "import xlwings as xw\n",
    "import numpy as np\n",
    "import pandas as pd\n",
    "from random import randint"
   ]
  },
  {
   "cell_type": "code",
   "execution_count": 2,
   "metadata": {},
   "outputs": [],
   "source": [
    "wb = xw.Book(r'C:\\Users\\Xiaodong\\Desktop\\包税程序设计\\重量计算流程及相关文件\\重量计算流程及相关文件\\单独申报 ： DIDADI 104件原始以及调整过程.xls')"
   ]
  },
  {
   "cell_type": "markdown",
   "metadata": {},
   "source": [
    "# Creat a summary sheet with some weight information"
   ]
  },
  {
   "cell_type": "code",
   "execution_count": 3,
   "metadata": {},
   "outputs": [],
   "source": [
    "if wb.sheets[0].name != 'Summary':\n",
    "    xw.sheets.add(name='Summary', before=wb.sheets[0])  \n",
    "    wb.sheets[0].range('A1').value = 'Air Way Bill GW'\n",
    "    wb.sheets[0].range('A2').value = '原始包税 GW'\n",
    "    wb.sheets[0].range('A3').value = '客人自有税号 GW'\n",
    "    wb.sheets[0].range('A4').value = '包税修改后 GW'\n",
    "    wb.sheets[0].range('A1:A4').color = (0, 225, 0)"
   ]
  },
  {
   "cell_type": "code",
   "execution_count": 4,
   "metadata": {},
   "outputs": [],
   "source": [
    "# Create a variable to store all adjusted 自有税号 total G.W.\n",
    "gw_zysh = []"
   ]
  },
  {
   "cell_type": "markdown",
   "metadata": {},
   "source": [
    "# 1.a Start adjust first 自有税号\n",
    "# Creat a new workbook to output the results"
   ]
  },
  {
   "cell_type": "code",
   "execution_count": 12,
   "metadata": {},
   "outputs": [],
   "source": [
    "wb2 = xw.Book()\n",
    "\n",
    "sht1 = wb2.sheets.active"
   ]
  },
  {
   "cell_type": "markdown",
   "metadata": {},
   "source": [
    "# Assign the source sheets with original data"
   ]
  },
  {
   "cell_type": "code",
   "execution_count": 13,
   "metadata": {},
   "outputs": [],
   "source": [
    "shtA = wb.sheets[3]    #worksheet A\n",
    "sht_summary = wb.sheets[0]  #worksheet summary"
   ]
  },
  {
   "cell_type": "markdown",
   "metadata": {},
   "source": [
    "# Set a variable of target weight say 35kg/box"
   ]
  },
  {
   "cell_type": "code",
   "execution_count": 8,
   "metadata": {},
   "outputs": [],
   "source": [
    "# tgt_wt_per_box = randint(30, 35)  # create a random integer between 30 - 35\n",
    "tgt_wt_per_box = 35           # set the value to 35, choose one of two options available"
   ]
  },
  {
   "cell_type": "markdown",
   "metadata": {},
   "source": [
    "# Export to DataFrame"
   ]
  },
  {
   "cell_type": "code",
   "execution_count": 14,
   "metadata": {},
   "outputs": [],
   "source": [
    "df = shtA.range('A20:Q23').options(pd.DataFrame).value   # export to dataframe change A1: U143 according to individual case\n",
    "\n",
    "tgt_wt = df['CTN'].sum() * tgt_wt_per_box   # workout target weight for this 自有税号\n",
    "\n",
    "perc = tgt_wt / df['G.W.(KG)'].sum()    # wortkout percentage increase\n",
    "\n",
    "df['ADJUSTED G.W.'] = round(df['G.W.(KG)'] * perc, 2)\n",
    "\n",
    "df['ADJUSTED N.W.'] = round(df['ADJUSTED G.W.'] * 0.75, 2)\n",
    "\n",
    "gw_zysh.append(df['ADJUSTED G.W.'].sum())"
   ]
  },
  {
   "cell_type": "markdown",
   "metadata": {},
   "source": [
    "# After above step, write out to excel and save the excel, start next 客人自有税号"
   ]
  },
  {
   "cell_type": "markdown",
   "metadata": {},
   "source": [
    "# ------------------------------------------------------------"
   ]
  },
  {
   "cell_type": "markdown",
   "metadata": {},
   "source": [
    "# Once all 客人自有税号 adjustment are done, start below"
   ]
  },
  {
   "cell_type": "markdown",
   "metadata": {},
   "source": [
    "### calculate 包税目标重量 = Airway Bill GW - 自有税号调整后总重量"
   ]
  },
  {
   "cell_type": "code",
   "execution_count": 16,
   "metadata": {},
   "outputs": [],
   "source": [
    "wb.sheets['Summary'].range('B3').value = sum(gw_zysh)   # write value to Summary sheet 客人自有税号 GW"
   ]
  },
  {
   "cell_type": "code",
   "execution_count": 17,
   "metadata": {},
   "outputs": [],
   "source": [
    "bs_tgt_gw = wb.sheets['Summary'].range('B1').value - sum(gw_zysh)   # bs_tgt_gw 包税目标重量"
   ]
  },
  {
   "cell_type": "code",
   "execution_count": 20,
   "metadata": {},
   "outputs": [],
   "source": [
    "wb.sheets['Summary'].range('B4').value = bs_tgt_gw"
   ]
  },
  {
   "cell_type": "markdown",
   "metadata": {},
   "source": [
    "# Assign the source sheet"
   ]
  },
  {
   "cell_type": "code",
   "execution_count": 21,
   "metadata": {
    "scrolled": true
   },
   "outputs": [],
   "source": [
    "shtB = wb.sheets[1]    "
   ]
  },
  {
   "cell_type": "markdown",
   "metadata": {},
   "source": [
    "# Creat a new workbook to output the results"
   ]
  },
  {
   "cell_type": "code",
   "execution_count": 22,
   "metadata": {},
   "outputs": [],
   "source": [
    "wb2 = xw.Book()\n",
    "\n",
    "sht1 = wb2.sheets.active   # create a new workbook  'Book3 in current case'"
   ]
  },
  {
   "cell_type": "markdown",
   "metadata": {},
   "source": [
    "# Export to DataFrame\n",
    "## note, need to have a column of item weight available, in this example, copied shipping weight column from the other sheet."
   ]
  },
  {
   "cell_type": "code",
   "execution_count": 23,
   "metadata": {},
   "outputs": [],
   "source": [
    "df = shtB.range('A2:R101').options(pd.DataFrame).value   # export to dataframe change A1: U143 according to individual case"
   ]
  },
  {
   "cell_type": "code",
   "execution_count": 24,
   "metadata": {},
   "outputs": [],
   "source": [
    "df['CALCULATED GW'] = df['QTY'] * df['SHIIPING WEIGHT']  # create a column 'calculated gw' based on qty * item_wt"
   ]
  },
  {
   "cell_type": "code",
   "execution_count": 25,
   "metadata": {},
   "outputs": [],
   "source": [
    "cal_gw = round(df['CALCULATED GW'].sum(), 2)"
   ]
  },
  {
   "cell_type": "code",
   "execution_count": 83,
   "metadata": {},
   "outputs": [
    {
     "data": {
      "text/plain": [
       "1.0306306044864912"
      ]
     },
     "execution_count": 83,
     "metadata": {},
     "output_type": "execute_result"
    }
   ],
   "source": [
    "# sht_summary.range('B2').value / cal_gw, workout the adjustment percentage"
   ]
  },
  {
   "cell_type": "code",
   "execution_count": 26,
   "metadata": {},
   "outputs": [],
   "source": [
    "df['ADJUSTED GW'] = round(df['CALCULATED GW'] * round(sht_summary.range('B2').value / cal_gw, 2), 2)"
   ]
  },
  {
   "cell_type": "code",
   "execution_count": 27,
   "metadata": {},
   "outputs": [
    {
     "data": {
      "text/plain": [
       "-0.8"
      ]
     },
     "execution_count": 27,
     "metadata": {},
     "output_type": "execute_result"
    }
   ],
   "source": [
    "diff = round(df['ADJUSTED GW'].sum() - df['G.W.(KG)'].sum(), 2)\n",
    "\n",
    "diff"
   ]
  },
  {
   "cell_type": "markdown",
   "metadata": {},
   "source": [
    "# Find the item only appear once, apply diff to that item's weight"
   ]
  },
  {
   "cell_type": "code",
   "execution_count": 28,
   "metadata": {},
   "outputs": [],
   "source": [
    "df['COMMODITYNAME'].value_counts(ascending=True).index[0]  #find the items appearance, pick the first one by add .index[0] \n",
    "\n",
    "# df.loc[df['英文品名'] == df['英文品名'].value_counts(ascending=True).index[0]]['ADJUSTED GW'] + diff\n",
    "\n",
    "df.loc[df['COMMODITYNAME'] == df['COMMODITYNAME'].value_counts(ascending=True).index[0], 'ADJUSTED GW'] -= diff"
   ]
  },
  {
   "cell_type": "markdown",
   "metadata": {},
   "source": [
    "# now start adjusting sensitive HS CODE weight"
   ]
  },
  {
   "cell_type": "code",
   "execution_count": 29,
   "metadata": {},
   "outputs": [],
   "source": [
    "df['HS CODE'] = df['HS CODE'].astype(str)   # convert column HS CODE from float to string\n",
    "\n",
    "def check_HS(x):\n",
    "    if x.startswith('42') | x.startswith('61') | x.startswith('62'):\n",
    "        return 'Sensitive'\n",
    "    else:\n",
    "        return 'Safe'\n",
    "\n",
    "df['SENSITIVITY']= df['HS CODE'].apply(check_HS)  # create a column to set sensitivity according to HS CODE"
   ]
  },
  {
   "cell_type": "markdown",
   "metadata": {},
   "source": [
    "## define a function to decide adjustment value according to qty"
   ]
  },
  {
   "cell_type": "code",
   "execution_count": 30,
   "metadata": {},
   "outputs": [],
   "source": [
    "def weight_setter(qty):   \n",
    "    if qty <=50:\n",
    "        return 0.075\n",
    "    elif qty <= 100:\n",
    "        return 0.085\n",
    "    elif qty <=150:\n",
    "        return 0.035\n",
    "    elif qty <=200:\n",
    "        return 0.03\n",
    "    else:\n",
    "        return 0.025"
   ]
  },
  {
   "cell_type": "markdown",
   "metadata": {},
   "source": [
    "# adjust sensitive HS CODE weight"
   ]
  },
  {
   "cell_type": "code",
   "execution_count": 31,
   "metadata": {},
   "outputs": [],
   "source": [
    "def adjust_wt_sense(row):\n",
    "    # weight = row[10]\n",
    "    sens = row[19]            #need to adjust the number to the column of SENSITIVITY\n",
    "    qty = row[11]             #need to adjust the number to the column of QTY\n",
    "    \n",
    "    if sens == 'Sensitive':\n",
    "        return qty * weight_setter(qty)\n",
    "\n",
    "df['ADJ1_SENS'] = round(df.apply(adjust_wt_sense, axis = 1), 2)\n",
    "\n",
    "df['ADJ1'] = df['ADJ1_SENS'].combine_first(df['ADJUSTED GW'])   # replace the none value with original number"
   ]
  },
  {
   "cell_type": "markdown",
   "metadata": {},
   "source": [
    "# adjust safe HS CODE weight"
   ]
  },
  {
   "cell_type": "code",
   "execution_count": 32,
   "metadata": {},
   "outputs": [],
   "source": [
    "wgt_diff = sht_summary.range('B4').value - df['ADJ1'].sum()"
   ]
  },
  {
   "cell_type": "code",
   "execution_count": 33,
   "metadata": {},
   "outputs": [
    {
     "data": {
      "text/plain": [
       "-166.28999999999996"
      ]
     },
     "execution_count": 33,
     "metadata": {},
     "output_type": "execute_result"
    }
   ],
   "source": [
    "wgt_diff"
   ]
  },
  {
   "cell_type": "code",
   "execution_count": 34,
   "metadata": {},
   "outputs": [],
   "source": [
    "df_safe = df[df['SENSITIVITY'] == 'Safe']"
   ]
  },
  {
   "cell_type": "code",
   "execution_count": 35,
   "metadata": {},
   "outputs": [],
   "source": [
    "qty_safe = df_safe['QTY'].sum()"
   ]
  },
  {
   "cell_type": "code",
   "execution_count": 36,
   "metadata": {},
   "outputs": [],
   "source": [
    "adj2_val = wgt_diff / qty_safe"
   ]
  },
  {
   "cell_type": "code",
   "execution_count": 37,
   "metadata": {},
   "outputs": [
    {
     "data": {
      "text/plain": [
       "-0.03994475138121546"
      ]
     },
     "execution_count": 37,
     "metadata": {},
     "output_type": "execute_result"
    }
   ],
   "source": [
    "adj2_val"
   ]
  },
  {
   "cell_type": "code",
   "execution_count": 38,
   "metadata": {},
   "outputs": [],
   "source": [
    "def adjust_wt_safe(row):\n",
    "    weight = row[21]     # row adj1\n",
    "    sens = row[19]   \n",
    "    qty = row[11]\n",
    "    \n",
    "    if sens == 'Safe':\n",
    "        return round(weight + qty * adj2_val, 2)"
   ]
  },
  {
   "cell_type": "code",
   "execution_count": 39,
   "metadata": {},
   "outputs": [],
   "source": [
    "df['ADJ2_SAFE'] = df.apply(adjust_wt_safe, axis = 1)"
   ]
  },
  {
   "cell_type": "code",
   "execution_count": 40,
   "metadata": {},
   "outputs": [],
   "source": [
    "df['ADJ2'] = df['ADJ2_SAFE'].combine_first(df['ADJ1'])   # replace the none value with original number"
   ]
  },
  {
   "cell_type": "markdown",
   "metadata": {},
   "source": [
    "#  Same again, find the items only appear once, apply final diff to that item's weight"
   ]
  },
  {
   "cell_type": "code",
   "execution_count": 41,
   "metadata": {},
   "outputs": [],
   "source": [
    "final_diff = round(sht_summary.range('B4').value - df['ADJ2'].sum(), 2)\n",
    "\n",
    "# final_diff\n",
    "\n",
    "df['COMMODITYNAME'].value_counts(ascending=True).index[1]  #find the items appearance, pick the first one by add .index[0] \n",
    "\n",
    "df.loc[df['COMMODITYNAME'] == df['COMMODITYNAME'].value_counts(ascending=True).index[1], 'ADJ2'] += final_diff"
   ]
  },
  {
   "cell_type": "markdown",
   "metadata": {},
   "source": [
    "# In this special case, there is one minus weight, below code will solve problem, \n",
    "# by copying the weight from ADJ1, then adjust differenc eto another item"
   ]
  },
  {
   "cell_type": "code",
   "execution_count": 43,
   "metadata": {},
   "outputs": [],
   "source": [
    "mask = df['ADJ2'] < 0"
   ]
  },
  {
   "cell_type": "code",
   "execution_count": 48,
   "metadata": {},
   "outputs": [],
   "source": [
    "df.loc[mask, 'ADJ2' ] = df.loc[mask, 'ADJ1']"
   ]
  },
  {
   "cell_type": "code",
   "execution_count": 50,
   "metadata": {},
   "outputs": [],
   "source": [
    "final_diff2 = round(sht_summary.range('B4').value - df['ADJ2'].sum(), 2)\n",
    "\n",
    "# final_diff\n",
    "\n",
    "df['COMMODITYNAME'].value_counts(ascending=True).index[1]  #find the items appearance, pick the first one by add .index[0] \n",
    "\n",
    "df.loc[df['COMMODITYNAME'] == df['COMMODITYNAME'].value_counts(ascending=True).index[2], 'ADJ2'] += final_diff2"
   ]
  },
  {
   "cell_type": "code",
   "execution_count": 46,
   "metadata": {},
   "outputs": [
    {
     "data": {
      "text/plain": [
       "0.07"
      ]
     },
     "execution_count": 46,
     "metadata": {},
     "output_type": "execute_result"
    }
   ],
   "source": [
    "final_diff"
   ]
  },
  {
   "cell_type": "code",
   "execution_count": null,
   "metadata": {},
   "outputs": [],
   "source": []
  },
  {
   "cell_type": "code",
   "execution_count": null,
   "metadata": {},
   "outputs": [],
   "source": []
  },
  {
   "cell_type": "code",
   "execution_count": null,
   "metadata": {},
   "outputs": [],
   "source": []
  },
  {
   "cell_type": "code",
   "execution_count": null,
   "metadata": {},
   "outputs": [],
   "source": []
  },
  {
   "cell_type": "code",
   "execution_count": null,
   "metadata": {},
   "outputs": [],
   "source": []
  },
  {
   "cell_type": "code",
   "execution_count": null,
   "metadata": {},
   "outputs": [],
   "source": []
  },
  {
   "cell_type": "code",
   "execution_count": null,
   "metadata": {},
   "outputs": [],
   "source": []
  },
  {
   "cell_type": "markdown",
   "metadata": {},
   "source": [
    "# experiment code below"
   ]
  },
  {
   "cell_type": "code",
   "execution_count": 181,
   "metadata": {},
   "outputs": [],
   "source": [
    "df.loc[mask, 'ADJ2' ] = df.loc[mask, 'ADJ1']"
   ]
  },
  {
   "cell_type": "code",
   "execution_count": 152,
   "metadata": {
    "scrolled": true
   },
   "outputs": [
    {
     "name": "stderr",
     "output_type": "stream",
     "text": [
      "C:\\Users\\Xiaodong\\Anaconda2\\envs\\Python3\\lib\\site-packages\\ipykernel_launcher.py:1: SettingWithCopyWarning: \n",
      "A value is trying to be set on a copy of a slice from a DataFrame.\n",
      "Try using .loc[row_indexer,col_indexer] = value instead\n",
      "\n",
      "See the caveats in the documentation: http://pandas.pydata.org/pandas-docs/stable/indexing.html#indexing-view-versus-copy\n",
      "  \"\"\"Entry point for launching an IPython kernel.\n"
     ]
    }
   ],
   "source": [
    "df[df['ADJ2'] < 0]['ADJ2'] = 2.06"
   ]
  },
  {
   "cell_type": "code",
   "execution_count": 47,
   "metadata": {},
   "outputs": [],
   "source": [
    "mask = df['ADJ2'] < 0"
   ]
  },
  {
   "cell_type": "code",
   "execution_count": 182,
   "metadata": {},
   "outputs": [
    {
     "data": {
      "text/plain": [
       "Series([], Name: ADJ2, dtype: float64)"
      ]
     },
     "execution_count": 182,
     "metadata": {},
     "output_type": "execute_result"
    }
   ],
   "source": []
  },
  {
   "cell_type": "code",
   "execution_count": 151,
   "metadata": {},
   "outputs": [
    {
     "data": {
      "text/plain": [
       "MARKS & NO\n",
       "FBA15C7LQY09U000001    2.06\n",
       "Name: ADJ1, dtype: float64"
      ]
     },
     "execution_count": 151,
     "metadata": {},
     "output_type": "execute_result"
    }
   ],
   "source": [
    "df[df['ADJ2'] < 0]['ADJ1']"
   ]
  },
  {
   "cell_type": "code",
   "execution_count": 167,
   "metadata": {},
   "outputs": [],
   "source": [
    "unique_index = pd.Index(mask)"
   ]
  },
  {
   "cell_type": "code",
   "execution_count": 170,
   "metadata": {},
   "outputs": [
    {
     "data": {
      "text/plain": [
       "pandas.core.indexes.base.Index"
      ]
     },
     "execution_count": 170,
     "metadata": {},
     "output_type": "execute_result"
    }
   ],
   "source": [
    "type(unique_index).get_loc"
   ]
  },
  {
   "cell_type": "code",
   "execution_count": 140,
   "metadata": {
    "scrolled": true
   },
   "outputs": [
    {
     "data": {
      "text/plain": [
       "0.07"
      ]
     },
     "execution_count": 140,
     "metadata": {},
     "output_type": "execute_result"
    }
   ],
   "source": [
    "final_diff"
   ]
  },
  {
   "cell_type": "code",
   "execution_count": null,
   "metadata": {},
   "outputs": [],
   "source": []
  },
  {
   "cell_type": "code",
   "execution_count": 51,
   "metadata": {},
   "outputs": [
    {
     "data": {
      "text/plain": [
       "[349.98, 105.0]"
      ]
     },
     "execution_count": 51,
     "metadata": {},
     "output_type": "execute_result"
    }
   ],
   "source": [
    "gw_zysh"
   ]
  },
  {
   "cell_type": "code",
   "execution_count": 52,
   "metadata": {},
   "outputs": [
    {
     "data": {
      "text/plain": [
       "454.98"
      ]
     },
     "execution_count": 52,
     "metadata": {},
     "output_type": "execute_result"
    }
   ],
   "source": [
    "sum(gw_zysh)"
   ]
  },
  {
   "cell_type": "markdown",
   "metadata": {},
   "source": [
    "# write back to worksheet, execute below code whenever necessary"
   ]
  },
  {
   "cell_type": "code",
   "execution_count": 51,
   "metadata": {},
   "outputs": [],
   "source": [
    "sht1.range('A1').value = df"
   ]
  },
  {
   "cell_type": "markdown",
   "metadata": {},
   "source": [
    "# clear worksheet content"
   ]
  },
  {
   "cell_type": "code",
   "execution_count": 142,
   "metadata": {},
   "outputs": [],
   "source": [
    "sht1.clear_contents()"
   ]
  },
  {
   "cell_type": "code",
   "execution_count": null,
   "metadata": {},
   "outputs": [],
   "source": []
  },
  {
   "cell_type": "code",
   "execution_count": 30,
   "metadata": {},
   "outputs": [
    {
     "data": {
      "text/plain": [
       "33"
      ]
     },
     "execution_count": 30,
     "metadata": {},
     "output_type": "execute_result"
    }
   ],
   "source": [
    "randint(30, 35)"
   ]
  },
  {
   "cell_type": "markdown",
   "metadata": {},
   "source": [
    "# Things need to be improved, source file column header and position need to be consistent, otherwise everytime need to adjust the header\n",
    "# Shipping Item Weight need to be on the source sheet for calculation purpose"
   ]
  },
  {
   "cell_type": "code",
   "execution_count": null,
   "metadata": {},
   "outputs": [],
   "source": []
  }
 ],
 "metadata": {
  "kernelspec": {
   "display_name": "Python 3",
   "language": "python",
   "name": "python3"
  },
  "language_info": {
   "codemirror_mode": {
    "name": "ipython",
    "version": 3
   },
   "file_extension": ".py",
   "mimetype": "text/x-python",
   "name": "python",
   "nbconvert_exporter": "python",
   "pygments_lexer": "ipython3",
   "version": "3.6.6"
  }
 },
 "nbformat": 4,
 "nbformat_minor": 2
}
